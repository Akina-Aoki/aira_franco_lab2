{
 "cells": [
  {
   "cell_type": "markdown",
   "id": "09d9248c",
   "metadata": {},
   "source": [
    "# Notebook to test rectangle class"
   ]
  },
  {
   "cell_type": "code",
   "execution_count": 2,
   "id": "1fedf754",
   "metadata": {},
   "outputs": [],
   "source": [
    "from rectangle import Rectangle\n",
    "\n",
    "r1 = Rectangle(0, 0, 3, 4)"
   ]
  },
  {
   "cell_type": "code",
   "execution_count": null,
   "id": "7abaf4a7",
   "metadata": {},
   "outputs": [
    {
     "name": "stdout",
     "output_type": "stream",
     "text": [
      "Rectangle width = 3\n",
      "height = 4\n",
      "x = 0\n",
      "y = 3\n",
      "Rectangle width = 3\n",
      "height = 4\n",
      "x = 0\n",
      "y = 3\n",
      "Rectangle\n",
      "width = 3\n",
      "height = 4\n",
      "x = 5\n",
      "y = 5\n"
     ]
    }
   ],
   "source": [
    "# Translate\n",
    "r1.translate(5, 3)\n",
    "print(r1)              # Rectangle width = 3, height = 4, x = 5, y = 3\n",
    "\n"
   ]
  },
  {
   "cell_type": "code",
   "execution_count": null,
   "id": "617edc46",
   "metadata": {},
   "outputs": [
    {
     "name": "stdout",
     "output_type": "stream",
     "text": [
      "Rectangle width = 3\n",
      "height = 4\n",
      "x = 0\n",
      "y = 3\n",
      "Rectangle\n",
      "width = 3\n",
      "height = 4\n",
      "x = 5\n",
      "y = 5\n"
     ]
    }
   ],
   "source": [
    "\n",
    "# Check str/repr\n",
    "print(str(r1))\n",
    "print(repr(r1))"
   ]
  },
  {
   "cell_type": "code",
   "execution_count": null,
   "id": "727f857a",
   "metadata": {},
   "outputs": [],
   "source": [
    "r2 = Rectangle(5, 5, 3, 4)"
   ]
  },
  {
   "cell_type": "code",
   "execution_count": null,
   "id": "bf9ef34d",
   "metadata": {},
   "outputs": [],
   "source": [
    "# Should give error\n",
    "r3 = Rectangle(1, 1, 2, 2)"
   ]
  },
  {
   "cell_type": "code",
   "execution_count": 10,
   "id": "d7be4f1a",
   "metadata": {},
   "outputs": [
    {
     "name": "stdout",
     "output_type": "stream",
     "text": [
      "True\n"
     ]
    },
    {
     "ename": "NameError",
     "evalue": "name 'r3' is not defined",
     "output_type": "error",
     "traceback": [
      "\u001b[31m---------------------------------------------------------------------------\u001b[39m",
      "\u001b[31mNameError\u001b[39m                                 Traceback (most recent call last)",
      "\u001b[36mCell\u001b[39m\u001b[36m \u001b[39m\u001b[32mIn[10]\u001b[39m\u001b[32m, line 3\u001b[39m\n\u001b[32m      1\u001b[39m \u001b[38;5;66;03m# Check equality\u001b[39;00m\n\u001b[32m      2\u001b[39m \u001b[38;5;28mprint\u001b[39m(r1 == r2)        \u001b[38;5;66;03m# True\u001b[39;00m\n\u001b[32m----> \u001b[39m\u001b[32m3\u001b[39m \u001b[38;5;28mprint\u001b[39m(r1 > \u001b[43mr3\u001b[49m)         \u001b[38;5;66;03m# True\u001b[39;00m\n\u001b[32m      4\u001b[39m \u001b[38;5;28mprint\u001b[39m(r3.is_unit_square())  \u001b[38;5;66;03m# True\u001b[39;00m\n",
      "\u001b[31mNameError\u001b[39m: name 'r3' is not defined"
     ]
    }
   ],
   "source": [
    "# Check equality\n",
    "print(r1 == r2)        # True\n",
    "print(r1 > r3)         # True\n",
    "print(r3.is_unit_square())  # True"
   ]
  },
  {
   "cell_type": "code",
   "execution_count": null,
   "id": "49bac679",
   "metadata": {},
   "outputs": [],
   "source": []
  },
  {
   "cell_type": "code",
   "execution_count": 3,
   "id": "32033149",
   "metadata": {},
   "outputs": [
    {
     "name": "stdout",
     "output_type": "stream",
     "text": [
      "TypeError: value must be a number, not <class 'str'>\n"
     ]
    }
   ],
   "source": [
    "# Error case\n",
    "try:\n",
    "    Rectangle(x=0, y=0, width=\"ten\", height=4)\n",
    "except TypeError as e:\n",
    "    print(\"TypeError:\", e)\n",
    "\n",
    "try:\n",
    "    Rectangle(x=0, y=0, width=3, height=-2)\n",
    "except ValueError as e:\n",
    "    print(\"ValueError:\", e)"
   ]
  },
  {
   "cell_type": "markdown",
   "id": "5c336b07",
   "metadata": {},
   "source": [
    "## Type Error tests"
   ]
  },
  {
   "cell_type": "code",
   "execution_count": null,
   "id": "d2bad3cc",
   "metadata": {},
   "outputs": [
    {
     "ename": "ValueError",
     "evalue": "Width and height cannot be equal. This is not a square",
     "output_type": "error",
     "traceback": [
      "\u001b[31m---------------------------------------------------------------------------\u001b[39m",
      "\u001b[31mValueError\u001b[39m                                Traceback (most recent call last)",
      "\u001b[36mCell\u001b[39m\u001b[36m \u001b[39m\u001b[32mIn[5]\u001b[39m\u001b[32m, line 2\u001b[39m\n\u001b[32m      1\u001b[39m \u001b[38;5;66;03m# raise TypeError\u001b[39;00m\n\u001b[32m----> \u001b[39m\u001b[32m2\u001b[39m rectangle1 = \u001b[43mRectangle\u001b[49m\u001b[43m(\u001b[49m\u001b[43mx\u001b[49m\u001b[43m=\u001b[49m\u001b[32;43m0\u001b[39;49m\u001b[43m,\u001b[49m\u001b[43m \u001b[49m\u001b[43my\u001b[49m\u001b[43m=\u001b[49m\u001b[32;43m0\u001b[39;49m\u001b[43m,\u001b[49m\u001b[43m \u001b[49m\u001b[43mwidth\u001b[49m\u001b[43m=\u001b[49m\u001b[32;43m1\u001b[39;49m\u001b[43m,\u001b[49m\u001b[43m \u001b[49m\u001b[43mheight\u001b[49m\u001b[43m=\u001b[49m\u001b[32;43m1\u001b[39;49m\u001b[43m)\u001b[49m \n\u001b[32m      3\u001b[39m rectangle2 = Rectangle(width=\u001b[32m3\u001b[39m, height=\u001b[33m\"\u001b[39m\u001b[33m5\u001b[39m\u001b[33m\"\u001b[39m) \n",
      "\u001b[36mFile \u001b[39m\u001b[32mc:\\Users\\adelo\\de25\\aira_franco_lab3\\rectangle.py:39\u001b[39m, in \u001b[36mRectangle.__init__\u001b[39m\u001b[34m(self, x, y, width, height)\u001b[39m\n\u001b[32m     36\u001b[39m validate_number(height)\n\u001b[32m     38\u001b[39m \u001b[38;5;28;01mif\u001b[39;00m width == height:\n\u001b[32m---> \u001b[39m\u001b[32m39\u001b[39m     \u001b[38;5;28;01mraise\u001b[39;00m \u001b[38;5;167;01mValueError\u001b[39;00m(\u001b[33m\"\u001b[39m\u001b[33mWidth and height cannot be equal. This is not a square\u001b[39m\u001b[33m\"\u001b[39m)\n\u001b[32m     41\u001b[39m \u001b[38;5;66;03m# assign instances last unique to rectangle\u001b[39;00m\n\u001b[32m     42\u001b[39m \u001b[38;5;28mself\u001b[39m._width = width\n",
      "\u001b[31mValueError\u001b[39m: Width and height cannot be equal. This is not a square"
     ]
    }
   ],
   "source": [
    "# raise TypeError\n",
    "rectangle1 = Rectangle(x=0, y=0, width=1, height=1) \n"
   ]
  },
  {
   "cell_type": "code",
   "execution_count": null,
   "id": "b3496bd8",
   "metadata": {},
   "outputs": [
    {
     "ename": "TypeError",
     "evalue": "value must be a number, not <class 'str'>",
     "output_type": "error",
     "traceback": [
      "\u001b[31m---------------------------------------------------------------------------\u001b[39m",
      "\u001b[31mTypeError\u001b[39m                                 Traceback (most recent call last)",
      "\u001b[36mCell\u001b[39m\u001b[36m \u001b[39m\u001b[32mIn[6]\u001b[39m\u001b[32m, line 1\u001b[39m\n\u001b[32m----> \u001b[39m\u001b[32m1\u001b[39m rectangle2 = \u001b[43mRectangle\u001b[49m\u001b[43m(\u001b[49m\u001b[43mwidth\u001b[49m\u001b[43m=\u001b[49m\u001b[32;43m3\u001b[39;49m\u001b[43m,\u001b[49m\u001b[43m \u001b[49m\u001b[43mheight\u001b[49m\u001b[43m=\u001b[49m\u001b[33;43m\"\u001b[39;49m\u001b[33;43m5\u001b[39;49m\u001b[33;43m\"\u001b[39;49m\u001b[43m)\u001b[49m \n",
      "\u001b[36mFile \u001b[39m\u001b[32mc:\\Users\\adelo\\de25\\aira_franco_lab3\\rectangle.py:36\u001b[39m, in \u001b[36mRectangle.__init__\u001b[39m\u001b[34m(self, x, y, width, height)\u001b[39m\n\u001b[32m     34\u001b[39m \u001b[38;5;66;03m# validate the width and height first before assigning below\u001b[39;00m\n\u001b[32m     35\u001b[39m validate_number(width)\n\u001b[32m---> \u001b[39m\u001b[32m36\u001b[39m \u001b[43mvalidate_number\u001b[49m\u001b[43m(\u001b[49m\u001b[43mheight\u001b[49m\u001b[43m)\u001b[49m\n\u001b[32m     38\u001b[39m \u001b[38;5;28;01mif\u001b[39;00m width == height:\n\u001b[32m     39\u001b[39m     \u001b[38;5;28;01mraise\u001b[39;00m \u001b[38;5;167;01mValueError\u001b[39;00m(\u001b[33m\"\u001b[39m\u001b[33mWidth and height cannot be equal. This is not a square\u001b[39m\u001b[33m\"\u001b[39m)\n",
      "\u001b[36mFile \u001b[39m\u001b[32mc:\\Users\\adelo\\de25\\aira_franco_lab3\\util.py:17\u001b[39m, in \u001b[36mvalidate_number\u001b[39m\u001b[34m(value)\u001b[39m\n\u001b[32m      9\u001b[39m \u001b[38;5;250m\u001b[39m\u001b[33;03m\"\"\"\u001b[39;00m\n\u001b[32m     10\u001b[39m \u001b[33;03mValidate that the given value is a number.\u001b[39;00m\n\u001b[32m     11\u001b[39m \u001b[33;03mValue : any type\u001b[39;00m\n\u001b[32m     12\u001b[39m \u001b[33;03mRaises: TypeError if the value is not a number (int).\u001b[39;00m\n\u001b[32m     13\u001b[39m \u001b[33;03mNegative numbers are ok since x and y quadrants contains it.\u001b[39;00m\n\u001b[32m     14\u001b[39m \u001b[33;03m\"\"\"\u001b[39;00m\n\u001b[32m     15\u001b[39m \u001b[38;5;28;01mif\u001b[39;00m \u001b[38;5;129;01mnot\u001b[39;00m \u001b[38;5;28misinstance\u001b[39m(value, Number):   \n\u001b[32m     16\u001b[39m     \u001b[38;5;66;03m# checks if the value is a number\u001b[39;00m\n\u001b[32m---> \u001b[39m\u001b[32m17\u001b[39m     \u001b[38;5;28;01mraise\u001b[39;00m \u001b[38;5;167;01mTypeError\u001b[39;00m(\u001b[33mf\u001b[39m\u001b[33m\"\u001b[39m\u001b[33mvalue must be a number, not \u001b[39m\u001b[38;5;132;01m{\u001b[39;00m\u001b[38;5;28mtype\u001b[39m(value)\u001b[38;5;132;01m}\u001b[39;00m\u001b[33m\"\u001b[39m)\n",
      "\u001b[31mTypeError\u001b[39m: value must be a number, not <class 'str'>"
     ]
    }
   ],
   "source": [
    "# raise type error\n",
    "rectangle2 = Rectangle(width=3, height=\"5\") "
   ]
  },
  {
   "cell_type": "code",
   "execution_count": null,
   "id": "a41c4e78",
   "metadata": {},
   "outputs": [],
   "source": [
    "try:\n",
    "    rectangle3 = Rectangle(width = \"five\", height = \"ten\")\n",
    "except TypeError as e:\n",
    "    print(\"ERROR:\", e)"
   ]
  },
  {
   "cell_type": "code",
   "execution_count": null,
   "id": "ebec4517",
   "metadata": {},
   "outputs": [],
   "source": [
    "try:\n",
    "    square1 = Rectangle(width = 4, height = 4)\n",
    "except ValueError as e:\n",
    "    print(\"ERROR:\", e)"
   ]
  },
  {
   "cell_type": "code",
   "execution_count": null,
   "id": "4fee38b1",
   "metadata": {},
   "outputs": [],
   "source": [
    "try:\n",
    "    Rectangle(x=0, y=0, width=0, height=2)\n",
    "except ValueError as e:\n",
    "    print(\"ERROR:\", e)"
   ]
  }
 ],
 "metadata": {
  "kernelspec": {
   "display_name": "Python 3",
   "language": "python",
   "name": "python3"
  },
  "language_info": {
   "codemirror_mode": {
    "name": "ipython",
    "version": 3
   },
   "file_extension": ".py",
   "mimetype": "text/x-python",
   "name": "python",
   "nbconvert_exporter": "python",
   "pygments_lexer": "ipython3",
   "version": "3.12.10"
  }
 },
 "nbformat": 4,
 "nbformat_minor": 5
}
