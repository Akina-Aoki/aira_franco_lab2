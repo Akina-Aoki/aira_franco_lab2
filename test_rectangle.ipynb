{
 "cells": [
  {
   "cell_type": "markdown",
   "id": "09d9248c",
   "metadata": {},
   "source": [
    "# Notebook to test rectangle class"
   ]
  },
  {
   "cell_type": "code",
   "execution_count": 1,
   "id": "1fedf754",
   "metadata": {},
   "outputs": [],
   "source": [
    "from rectangle import Rectangle\n",
    "from circle import Circle"
   ]
  },
  {
   "cell_type": "markdown",
   "id": "648c6fad",
   "metadata": {},
   "source": [
    "### r1 test: __str__, __repr__, translate()"
   ]
  },
  {
   "cell_type": "code",
   "execution_count": 2,
   "id": "dfeb0c79",
   "metadata": {},
   "outputs": [
    {
     "name": "stdout",
     "output_type": "stream",
     "text": [
      "Rectangle 1 Test\n",
      "__str__ represntation\n",
      " Hej! I'm a rectangle with a width of 1\n",
      "and a height of 1\n",
      "My area is 1.\n",
      "My perimeter is 4.\n",
      " \n",
      "Rectangle\n",
      "width = 1\n",
      "height = 1\n",
      "(point of origin) x = 0\n",
      "(point of origin) y = 0\n"
     ]
    }
   ],
   "source": [
    "print(\"Rectangle 1 Test\")\n",
    "r1 = Rectangle(0, 0, 1, 1)\n",
    "\n",
    "# __str__ representation\n",
    "print(f\"__str__ represntation\\n\", r1)\n",
    "\n",
    "print(\" \")\n",
    "\n",
    "# __repr__ representation\n",
    "print(repr(r1))"
   ]
  },
  {
   "cell_type": "code",
   "execution_count": 3,
   "id": "7abaf4a7",
   "metadata": {},
   "outputs": [
    {
     "name": "stdout",
     "output_type": "stream",
     "text": [
      "Move x coordinates by 1\n",
      "y coordinates by 1\n",
      "New rectangle coordinates:(1,1)\n"
     ]
    }
   ],
   "source": [
    "# Output should be: Rectangle x = 5, y = 3, width = 3, height = 4\n",
    "# Translate\n",
    "r1.translate(1, 1)"
   ]
  },
  {
   "cell_type": "markdown",
   "id": "6b68ec52",
   "metadata": {},
   "source": [
    "### Error Handling:"
   ]
  },
  {
   "cell_type": "code",
   "execution_count": 4,
   "id": "727f857a",
   "metadata": {},
   "outputs": [
    {
     "name": "stdout",
     "output_type": "stream",
     "text": [
      "Rectangle 2 Test\n"
     ]
    },
    {
     "ename": "TypeError",
     "evalue": "value must be a number, not <class 'str'>",
     "output_type": "error",
     "traceback": [
      "\u001b[31m---------------------------------------------------------------------------\u001b[39m",
      "\u001b[31mTypeError\u001b[39m                                 Traceback (most recent call last)",
      "\u001b[36mCell\u001b[39m\u001b[36m \u001b[39m\u001b[32mIn[4]\u001b[39m\u001b[32m, line 5\u001b[39m\n\u001b[32m      1\u001b[39m \u001b[38;5;66;03m# Output should raise TypeError\u001b[39;00m\n\u001b[32m      2\u001b[39m \u001b[38;5;66;03m# TypeError: value must be a number, not <class 'str'>\u001b[39;00m\n\u001b[32m      4\u001b[39m \u001b[38;5;28mprint\u001b[39m(\u001b[33m\"\u001b[39m\u001b[33mRectangle 2 Test\u001b[39m\u001b[33m\"\u001b[39m)\n\u001b[32m----> \u001b[39m\u001b[32m5\u001b[39m r2 = \u001b[43mRectangle\u001b[49m\u001b[43m(\u001b[49m\u001b[32;43m1\u001b[39;49m\u001b[43m,\u001b[49m\u001b[43m \u001b[49m\u001b[32;43m1\u001b[39;49m\u001b[43m,\u001b[49m\u001b[43m \u001b[49m\u001b[32;43m3\u001b[39;49m\u001b[43m,\u001b[49m\u001b[43m \u001b[49m\u001b[33;43m\"\u001b[39;49m\u001b[33;43m5\u001b[39;49m\u001b[33;43m\"\u001b[39;49m\u001b[43m)\u001b[49m\n",
      "\u001b[36mFile \u001b[39m\u001b[32mc:\\Users\\adelo\\de25\\aira_franco_lab3\\rectangle.py:35\u001b[39m, in \u001b[36mRectangle.__init__\u001b[39m\u001b[34m(self, x, y, width, height)\u001b[39m\n\u001b[32m     33\u001b[39m \u001b[38;5;66;03m# validate the width and height first before assigning below\u001b[39;00m\n\u001b[32m     34\u001b[39m validate_number(width)\n\u001b[32m---> \u001b[39m\u001b[32m35\u001b[39m \u001b[43mvalidate_number\u001b[49m\u001b[43m(\u001b[49m\u001b[43mheight\u001b[49m\u001b[43m)\u001b[49m\n\u001b[32m     37\u001b[39m \u001b[38;5;66;03m# assign instances last unique to rectangle\u001b[39;00m\n\u001b[32m     38\u001b[39m \u001b[38;5;28mself\u001b[39m._width = width\n",
      "\u001b[36mFile \u001b[39m\u001b[32mc:\\Users\\adelo\\de25\\aira_franco_lab3\\util.py:17\u001b[39m, in \u001b[36mvalidate_number\u001b[39m\u001b[34m(value)\u001b[39m\n\u001b[32m      9\u001b[39m \u001b[38;5;250m\u001b[39m\u001b[33;03m\"\"\"\u001b[39;00m\n\u001b[32m     10\u001b[39m \u001b[33;03mValidate that the given value is a number.\u001b[39;00m\n\u001b[32m     11\u001b[39m \u001b[33;03mValue : any type\u001b[39;00m\n\u001b[32m     12\u001b[39m \u001b[33;03mRaises: TypeError if the value is not a number (int).\u001b[39;00m\n\u001b[32m     13\u001b[39m \u001b[33;03mNegative numbers are ok since x and y quadrants contains it.\u001b[39;00m\n\u001b[32m     14\u001b[39m \u001b[33;03m\"\"\"\u001b[39;00m\n\u001b[32m     15\u001b[39m \u001b[38;5;28;01mif\u001b[39;00m \u001b[38;5;129;01mnot\u001b[39;00m \u001b[38;5;28misinstance\u001b[39m(value, Number):   \n\u001b[32m     16\u001b[39m     \u001b[38;5;66;03m# checks if the value is a number\u001b[39;00m\n\u001b[32m---> \u001b[39m\u001b[32m17\u001b[39m     \u001b[38;5;28;01mraise\u001b[39;00m \u001b[38;5;167;01mTypeError\u001b[39;00m(\u001b[33mf\u001b[39m\u001b[33m\"\u001b[39m\u001b[33mvalue must be a number, not \u001b[39m\u001b[38;5;132;01m{\u001b[39;00m\u001b[38;5;28mtype\u001b[39m(value)\u001b[38;5;132;01m}\u001b[39;00m\u001b[33m\"\u001b[39m)\n",
      "\u001b[31mTypeError\u001b[39m: value must be a number, not <class 'str'>"
     ]
    }
   ],
   "source": [
    "# Output should raise TypeError\n",
    "# TypeError: value must be a number, not <class 'str'>\n",
    "\n",
    "print(\"Rectangle 2 Test\")\n",
    "r2 = Rectangle(1, 1, 3, \"5\")"
   ]
  },
  {
   "cell_type": "code",
   "execution_count": 5,
   "id": "a4eaf069",
   "metadata": {},
   "outputs": [
    {
     "name": "stdout",
     "output_type": "stream",
     "text": [
      "TypeError: value must be a number, not <class 'str'>\n"
     ]
    }
   ],
   "source": [
    "# Error case\n",
    "try:\n",
    "    Rectangle(x=0, y=0, width=\"ten\", height=4)\n",
    "except TypeError as e:\n",
    "    print(\"TypeError:\", e)\n",
    "\n"
   ]
  },
  {
   "cell_type": "code",
   "execution_count": 6,
   "id": "6b9edae2",
   "metadata": {},
   "outputs": [
    {
     "ename": "TypeError",
     "evalue": "value must be a number, not <class 'str'>",
     "output_type": "error",
     "traceback": [
      "\u001b[31m---------------------------------------------------------------------------\u001b[39m",
      "\u001b[31mTypeError\u001b[39m                                 Traceback (most recent call last)",
      "\u001b[36mCell\u001b[39m\u001b[36m \u001b[39m\u001b[32mIn[6]\u001b[39m\u001b[32m, line 2\u001b[39m\n\u001b[32m      1\u001b[39m \u001b[38;5;28;01mtry\u001b[39;00m:\n\u001b[32m----> \u001b[39m\u001b[32m2\u001b[39m     \u001b[43mRectangle\u001b[49m\u001b[43m(\u001b[49m\u001b[43mx\u001b[49m\u001b[43m=\u001b[49m\u001b[32;43m0\u001b[39;49m\u001b[43m,\u001b[49m\u001b[43m \u001b[49m\u001b[43my\u001b[49m\u001b[43m=\u001b[49m\u001b[32;43m0\u001b[39;49m\u001b[43m,\u001b[49m\u001b[43m \u001b[49m\u001b[43mwidth\u001b[49m\u001b[43m=\u001b[49m\u001b[33;43m\"\u001b[39;49m\u001b[33;43m3\u001b[39;49m\u001b[33;43m\"\u001b[39;49m\u001b[43m,\u001b[49m\u001b[43m \u001b[49m\u001b[43mheight\u001b[49m\u001b[43m=\u001b[49m\u001b[32;43m2\u001b[39;49m\u001b[43m)\u001b[49m\n\u001b[32m      3\u001b[39m \u001b[38;5;28;01mexcept\u001b[39;00m \u001b[38;5;167;01mValueError\u001b[39;00m \u001b[38;5;28;01mas\u001b[39;00m e:\n\u001b[32m      4\u001b[39m     \u001b[38;5;28mprint\u001b[39m(\u001b[33m\"\u001b[39m\u001b[33mValueError:\u001b[39m\u001b[33m\"\u001b[39m, e)\n",
      "\u001b[36mFile \u001b[39m\u001b[32mc:\\Users\\adelo\\de25\\aira_franco_lab3\\rectangle.py:34\u001b[39m, in \u001b[36mRectangle.__init__\u001b[39m\u001b[34m(self, x, y, width, height)\u001b[39m\n\u001b[32m     31\u001b[39m \u001b[38;5;28msuper\u001b[39m().\u001b[34m__init__\u001b[39m(x,y)\n\u001b[32m     33\u001b[39m \u001b[38;5;66;03m# validate the width and height first before assigning below\u001b[39;00m\n\u001b[32m---> \u001b[39m\u001b[32m34\u001b[39m \u001b[43mvalidate_number\u001b[49m\u001b[43m(\u001b[49m\u001b[43mwidth\u001b[49m\u001b[43m)\u001b[49m\n\u001b[32m     35\u001b[39m validate_number(height)\n\u001b[32m     37\u001b[39m \u001b[38;5;66;03m# assign instances last unique to rectangle\u001b[39;00m\n",
      "\u001b[36mFile \u001b[39m\u001b[32mc:\\Users\\adelo\\de25\\aira_franco_lab3\\util.py:17\u001b[39m, in \u001b[36mvalidate_number\u001b[39m\u001b[34m(value)\u001b[39m\n\u001b[32m      9\u001b[39m \u001b[38;5;250m\u001b[39m\u001b[33;03m\"\"\"\u001b[39;00m\n\u001b[32m     10\u001b[39m \u001b[33;03mValidate that the given value is a number.\u001b[39;00m\n\u001b[32m     11\u001b[39m \u001b[33;03mValue : any type\u001b[39;00m\n\u001b[32m     12\u001b[39m \u001b[33;03mRaises: TypeError if the value is not a number (int).\u001b[39;00m\n\u001b[32m     13\u001b[39m \u001b[33;03mNegative numbers are ok since x and y quadrants contains it.\u001b[39;00m\n\u001b[32m     14\u001b[39m \u001b[33;03m\"\"\"\u001b[39;00m\n\u001b[32m     15\u001b[39m \u001b[38;5;28;01mif\u001b[39;00m \u001b[38;5;129;01mnot\u001b[39;00m \u001b[38;5;28misinstance\u001b[39m(value, Number):   \n\u001b[32m     16\u001b[39m     \u001b[38;5;66;03m# checks if the value is a number\u001b[39;00m\n\u001b[32m---> \u001b[39m\u001b[32m17\u001b[39m     \u001b[38;5;28;01mraise\u001b[39;00m \u001b[38;5;167;01mTypeError\u001b[39;00m(\u001b[33mf\u001b[39m\u001b[33m\"\u001b[39m\u001b[33mvalue must be a number, not \u001b[39m\u001b[38;5;132;01m{\u001b[39;00m\u001b[38;5;28mtype\u001b[39m(value)\u001b[38;5;132;01m}\u001b[39;00m\u001b[33m\"\u001b[39m)\n",
      "\u001b[31mTypeError\u001b[39m: value must be a number, not <class 'str'>"
     ]
    }
   ],
   "source": [
    "try:\n",
    "    Rectangle(x=0, y=0, width=\"3\", height=2)\n",
    "except ValueError as e:\n",
    "    print(\"ValueError:\", e)"
   ]
  },
  {
   "cell_type": "code",
   "execution_count": 7,
   "id": "09eb365b",
   "metadata": {},
   "outputs": [
    {
     "name": "stdout",
     "output_type": "stream",
     "text": [
      "ERROR: value must be a number, not <class 'str'>\n"
     ]
    }
   ],
   "source": [
    "try:\n",
    "    rectangle3 = Rectangle(width = \"five\", height = \"ten\")\n",
    "except TypeError as e:\n",
    "    print(\"ERROR:\", e)"
   ]
  },
  {
   "cell_type": "markdown",
   "id": "043895f8",
   "metadata": {},
   "source": [
    "### r3 test: is_unit_square()"
   ]
  },
  {
   "cell_type": "code",
   "execution_count": 8,
   "id": "bf9ef34d",
   "metadata": {},
   "outputs": [
    {
     "name": "stdout",
     "output_type": "stream",
     "text": [
      "True\n"
     ]
    }
   ],
   "source": [
    "r3 = Rectangle(1, 1, 2, 2)\n",
    "\n",
    "# True\n",
    "print(r3.is_unit_square())  "
   ]
  },
  {
   "cell_type": "markdown",
   "id": "a422f77f",
   "metadata": {},
   "source": [
    "### r1 test: is_unit_square"
   ]
  },
  {
   "cell_type": "code",
   "execution_count": 9,
   "id": "6ba9c9b2",
   "metadata": {},
   "outputs": [
    {
     "name": "stdout",
     "output_type": "stream",
     "text": [
      "True\n"
     ]
    }
   ],
   "source": [
    "r1 = Rectangle(0, 0, 1, 1)\n",
    "\n",
    "# True\n",
    "print(r1.is_unit_square())  \n"
   ]
  },
  {
   "cell_type": "markdown",
   "id": "6cb90a11",
   "metadata": {},
   "source": [
    "### r4 test: is_unit_square"
   ]
  },
  {
   "cell_type": "code",
   "execution_count": 10,
   "id": "cf92fcd6",
   "metadata": {},
   "outputs": [
    {
     "name": "stdout",
     "output_type": "stream",
     "text": [
      "False\n"
     ]
    }
   ],
   "source": [
    "r4 = Rectangle(0, 0, 4, 5)\n",
    "# False\n",
    "print(r4.is_unit_square()) "
   ]
  },
  {
   "cell_type": "markdown",
   "id": "7420df3a",
   "metadata": {},
   "source": [
    "### Comparison Operators / Overloading Tests"
   ]
  },
  {
   "cell_type": "code",
   "execution_count": 11,
   "id": "d7be4f1a",
   "metadata": {},
   "outputs": [
    {
     "name": "stdout",
     "output_type": "stream",
     "text": [
      "Rectangle\n",
      "width = 1\n",
      "height = 1\n",
      "(point of origin) x = 0\n",
      "(point of origin) y = 0\n",
      " \n",
      "Rectangle\n",
      "width = 2\n",
      "height = 2\n",
      "(point of origin) x = 1\n",
      "(point of origin) y = 1\n",
      " \n",
      "r1 == r3 False\n",
      "r1 > r3 False\n"
     ]
    }
   ],
   "source": [
    "print(repr(r1))\n",
    "print(\" \")\n",
    "print(repr(r3))\n",
    "print(\" \")\n",
    "print(\"r1 == r3\", r1 == r3)   \n",
    "print(\"r1 > r3\", r1 > r3) "
   ]
  },
  {
   "cell_type": "code",
   "execution_count": 12,
   "id": "2d529261",
   "metadata": {},
   "outputs": [
    {
     "name": "stdout",
     "output_type": "stream",
     "text": [
      "r5 == r6 True\n",
      "r6 == r7 False\n",
      "r6 != r7 True\n",
      "r5 < r7 True\n",
      "r7 > r5 True\n",
      "r6 <= r5 True\n",
      "r5 >= r6 True\n"
     ]
    }
   ],
   "source": [
    "# area = 12\n",
    "r5 = Rectangle(0, 0, 3, 4 )\n",
    "\n",
    "# area = 12\n",
    "r6 = Rectangle(0, 0, 6, 2)\n",
    "\n",
    "# area = 25\n",
    "r7 = Rectangle(0, 0, 4, 4)\n",
    "\n",
    "\n",
    "#True\n",
    "print(\"r5 == r6\", r5 == r6)  \n",
    "\n",
    "# False\n",
    "print(\"r6 == r7\", r6 == r7) \n",
    "\n",
    "# True\n",
    "print(\"r6 != r7\", r6 != r7) \n",
    "\n",
    "# True\n",
    "print(\"r5 < r7\", r5 < r7)\n",
    "\n",
    "# True\n",
    "print(\"r7 > r5\", r7 > r5)\n",
    "\n",
    "# True\n",
    "print(\"r6 <= r5\", r6 <= r5)\n",
    "\n",
    "# True\n",
    "print(\"r5 >= r6\", r5 >= r6)"
   ]
  },
  {
   "cell_type": "markdown",
   "id": "1228e3a0",
   "metadata": {},
   "source": [
    "## Task: Create another test to use perimeter for rectangle comparison operator"
   ]
  },
  {
   "cell_type": "markdown",
   "id": "0de7eec2",
   "metadata": {},
   "source": []
  }
 ],
 "metadata": {
  "kernelspec": {
   "display_name": "Python 3",
   "language": "python",
   "name": "python3"
  },
  "language_info": {
   "codemirror_mode": {
    "name": "ipython",
    "version": 3
   },
   "file_extension": ".py",
   "mimetype": "text/x-python",
   "name": "python",
   "nbconvert_exporter": "python",
   "pygments_lexer": "ipython3",
   "version": "3.12.10"
  }
 },
 "nbformat": 4,
 "nbformat_minor": 5
}
