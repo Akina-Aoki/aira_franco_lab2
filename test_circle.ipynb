{
 "cells": [
  {
   "cell_type": "code",
   "execution_count": null,
   "id": "d016cb16",
   "metadata": {},
   "outputs": [
    {
     "name": "stdout",
     "output_type": "stream",
     "text": [
      "True\n",
      "True\n",
      "False\n",
      "True\n"
     ]
    }
   ],
   "source": [
    "\"\"\"\n",
    "Test Code for circle\n",
    "\"\"\"\n",
    "\n",
    "from circle import Circle\n",
    "\n",
    "c1 = Circle(x = 0, y = 0, radius = 1)\n",
    "c2 = Circle(x = 1, y = 1, radius = 1)\n",
    "\n",
    "# a circle with center 0,0 and radius 3\n",
    "c3 = Circle( radius = 3)\n",
    "\n",
    " # True\n",
    "print(c1 == c2)\n",
    "\n",
    "# True\n",
    "print(c3 > c1)\n",
    "\n",
    "# False\n",
    "print(c3 < c2)\n",
    "\n",
    "# True\n",
    "print(c1.is_unit_circle())\n"
   ]
  },
  {
   "cell_type": "code",
   "execution_count": 8,
   "id": "1ccf0e16",
   "metadata": {},
   "outputs": [
    {
     "data": {
      "text/plain": [
       "Circle\n",
       "radius = 1, x=0, y=0)"
      ]
     },
     "execution_count": 8,
     "metadata": {},
     "output_type": "execute_result"
    }
   ],
   "source": [
    "# Assigned values from __init__\n",
    "# x = 0, y = 0, radius:float = 1\n",
    "Circle()"
   ]
  },
  {
   "cell_type": "code",
   "execution_count": 6,
   "id": "44848ee0",
   "metadata": {},
   "outputs": [
    {
     "name": "stdout",
     "output_type": "stream",
     "text": [
      "Circle(radius=1, x=0, y=3)\n"
     ]
    }
   ],
   "source": [
    "# Circle(radius=1, x=5, y=3)\n",
    "c1.translate(5, 3)\n",
    "print(c1)"
   ]
  },
  {
   "cell_type": "code",
   "execution_count": null,
   "id": "309d60dd",
   "metadata": {},
   "outputs": [
    {
     "name": "stdout",
     "output_type": "stream",
     "text": [
      "True\n"
     ]
    },
    {
     "data": {
      "text/plain": [
       "True"
      ]
     },
     "execution_count": 3,
     "metadata": {},
     "output_type": "execute_result"
    }
   ],
   "source": [
    "\n",
    "circle1 = Circle(x = 0, y = 0, radius = 1)\n",
    "circle2 = Circle(x = 1, y = 1, radius = 1)\n",
    "circle3 = Circle(x = 2, y = 2, radius = 2)\n",
    "\n",
    "# True\n",
    "print(circle1 == circle2)   \n",
    "\n",
    "# a circle with center 0,0 with radius 3 \n",
    "circle3 = Circle(radius=3) \n",
    "\n",
    "# True \n",
    "circle3 >= circle1 \n",
    "\n"
   ]
  },
  {
   "cell_type": "code",
   "execution_count": 4,
   "id": "74a2d57b",
   "metadata": {},
   "outputs": [
    {
     "name": "stdout",
     "output_type": "stream",
     "text": [
      "Circle(radius=1, x=0, y=3)\n"
     ]
    }
   ],
   "source": [
    "# increments its center 5 points in x and 3 points in y  \n",
    "circle1.translate(5, 3)\n",
    "print(circle1)\n"
   ]
  },
  {
   "cell_type": "code",
   "execution_count": 5,
   "id": "32ec6053",
   "metadata": {},
   "outputs": [
    {
     "ename": "TypeError",
     "evalue": "x_translate and y_translate must be a number",
     "output_type": "error",
     "traceback": [
      "\u001b[31m---------------------------------------------------------------------------\u001b[39m",
      "\u001b[31mTypeError\u001b[39m                                 Traceback (most recent call last)",
      "\u001b[36mCell\u001b[39m\u001b[36m \u001b[39m\u001b[32mIn[5]\u001b[39m\u001b[32m, line 2\u001b[39m\n\u001b[32m      1\u001b[39m \u001b[38;5;66;03m# should raise TypeError with an appropriate message\u001b[39;00m\n\u001b[32m----> \u001b[39m\u001b[32m2\u001b[39m \u001b[43mcircle1\u001b[49m\u001b[43m.\u001b[49m\u001b[43mtranslate\u001b[49m\u001b[43m(\u001b[49m\u001b[33;43m\"\u001b[39;49m\u001b[33;43mTHREE\u001b[39;49m\u001b[33;43m\"\u001b[39;49m\u001b[43m,\u001b[49m\u001b[43m \u001b[49m\u001b[32;43m5\u001b[39;49m\u001b[43m)\u001b[49m  \n",
      "\u001b[36mFile \u001b[39m\u001b[32mc:\\Users\\adelo\\de25\\aira_franco_lab3\\geometry.py:81\u001b[39m, in \u001b[36mGeometry.translate\u001b[39m\u001b[34m(self, x_translate, y_translate)\u001b[39m\n\u001b[32m     73\u001b[39m \u001b[38;5;250m\u001b[39m\u001b[33;03m\"\"\"\u001b[39;00m\n\u001b[32m     74\u001b[39m \u001b[33;03mmethod to move x and y coordinates\u001b[39;00m\n\u001b[32m     75\u001b[39m \u001b[33;03mdepending on the value,\u001b[39;00m\n\u001b[32m   (...)\u001b[39m\u001b[32m     78\u001b[39m \u001b[33;03mbut not overwrties property _x and _y\u001b[39;00m\n\u001b[32m     79\u001b[39m \u001b[33;03m\"\"\"\u001b[39;00m\n\u001b[32m     80\u001b[39m \u001b[38;5;28;01mif\u001b[39;00m \u001b[38;5;129;01mnot\u001b[39;00m \u001b[38;5;28mall\u001b[39m (\u001b[38;5;28misinstance\u001b[39m(value, Number) \u001b[38;5;28;01mfor\u001b[39;00m value \u001b[38;5;129;01min\u001b[39;00m (x_translate, y_translate)):\n\u001b[32m---> \u001b[39m\u001b[32m81\u001b[39m     \u001b[38;5;28;01mraise\u001b[39;00m \u001b[38;5;167;01mTypeError\u001b[39;00m(\u001b[33m\"\u001b[39m\u001b[33mx_translate and y_translate must be a number\u001b[39m\u001b[33m\"\u001b[39m)\n\u001b[32m     82\u001b[39m \u001b[38;5;28mself\u001b[39m._x_translate = x_translate\n\u001b[32m     83\u001b[39m \u001b[38;5;28mself\u001b[39m._y = y_translate\n",
      "\u001b[31mTypeError\u001b[39m: x_translate and y_translate must be a number"
     ]
    }
   ],
   "source": [
    "# should raise TypeError with an appropriate message\n",
    "circle1.translate(\"THREE\", 5)  "
   ]
  },
  {
   "cell_type": "code",
   "execution_count": null,
   "id": "f80f2457",
   "metadata": {},
   "outputs": [],
   "source": []
  }
 ],
 "metadata": {
  "kernelspec": {
   "display_name": "Python 3",
   "language": "python",
   "name": "python3"
  },
  "language_info": {
   "codemirror_mode": {
    "name": "ipython",
    "version": 3
   },
   "file_extension": ".py",
   "mimetype": "text/x-python",
   "name": "python",
   "nbconvert_exporter": "python",
   "pygments_lexer": "ipython3",
   "version": "3.12.10"
  }
 },
 "nbformat": 4,
 "nbformat_minor": 5
}
