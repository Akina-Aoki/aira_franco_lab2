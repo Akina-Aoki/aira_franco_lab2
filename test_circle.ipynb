{
 "cells": [
  {
   "cell_type": "markdown",
   "id": "4c73e625",
   "metadata": {},
   "source": [
    "# Notebook to test circle class"
   ]
  },
  {
   "cell_type": "markdown",
   "id": "be7baf9f",
   "metadata": {},
   "source": [
    "## is_unit_circle() tests"
   ]
  },
  {
   "cell_type": "code",
   "execution_count": 9,
   "id": "6c24de77",
   "metadata": {},
   "outputs": [
    {
     "name": "stdout",
     "output_type": "stream",
     "text": [
      "x=1, y=1, radius=1\n",
      "x=1, y=1, radius=1\n",
      "C2 is unit circle? False\n"
     ]
    }
   ],
   "source": [
    "from circle import Circle\n",
    "\n",
    "# Test: C2 not a unit circle\n",
    "\n",
    "c2 = Circle(x=1, y=1, radius=1)\n",
    "\n",
    "# Should print: x=1, y=1, radius=1\n",
    "print(f\"x={c2.x}, y={c2.y}, radius={c2.radius}\")  \n",
    "\n",
    "# Should print: False\n",
    "print(\"C2 is unit circle?\", c2.is_unit_circle())     \n"
   ]
  },
  {
   "cell_type": "code",
   "execution_count": 10,
   "id": "20b13dca",
   "metadata": {},
   "outputs": [
    {
     "name": "stdout",
     "output_type": "stream",
     "text": [
      "x=0, y=0, radius=1\n",
      "x=0, y=0, radius=1\n",
      "C1 is unit circle? True\n"
     ]
    }
   ],
   "source": [
    "# Test: C1 A unit circle\n",
    "c1 = Circle(x = 0, y = 0, radius = 1)\n",
    "\n",
    "# Should print: x = 0, y = 0, radius = 1\n",
    "print(f\"x={c1.x}, y={c1.y}, radius={c1.radius}\")  \n",
    "\n",
    "# Should print: False\n",
    "print(\"C1 is unit circle?\", c1.is_unit_circle())  "
   ]
  },
  {
   "cell_type": "markdown",
   "id": "b896395f",
   "metadata": {},
   "source": [
    "## override of __str__ and __repr__ "
   ]
  },
  {
   "cell_type": "code",
   "execution_count": 11,
   "id": "55c9bcf9",
   "metadata": {},
   "outputs": [
    {
     "name": "stdout",
     "output_type": "stream",
     "text": [
      "Testing __str__():\n",
      "Hi! I am a circle with a radius of 1\n",
      "and my coordinates are (0, 0)\n",
      "\n",
      "Testing __repr__():\n",
      "Circle\n",
      "radius = 1, x=0, y=0)\n"
     ]
    }
   ],
   "source": [
    "#call __str__()\n",
    "print(\"Testing __str__():\")\n",
    "print(c1)  \n",
    "\n",
    "#call __repr__()\n",
    "print(\"\\nTesting __repr__():\")\n",
    "print(repr(c1))  \n",
    "    "
   ]
  },
  {
   "cell_type": "code",
   "execution_count": 12,
   "id": "35987050",
   "metadata": {},
   "outputs": [
    {
     "name": "stdout",
     "output_type": "stream",
     "text": [
      "Testing __str__():\n",
      "Hi! I am a circle with a radius of 3\n",
      "and my coordinates are (0, 0)\n",
      "\n",
      "Testing __repr__():\n",
      "Circle\n",
      "radius = 3, x=0, y=0)\n"
     ]
    }
   ],
   "source": [
    "c3 = Circle( radius = 3)\n",
    "\n",
    "#call __str__()\n",
    "print(\"Testing __str__():\")\n",
    "print(c3)  \n",
    "\n",
    "#call __repr__()\n",
    "print(\"\\nTesting __repr__():\")\n",
    "print(repr(c3))  \n",
    "    "
   ]
  },
  {
   "cell_type": "markdown",
   "id": "bcdc2ca9",
   "metadata": {},
   "source": [
    "## Comparison Operators / Operator Overloading tests"
   ]
  },
  {
   "cell_type": "code",
   "execution_count": 13,
   "id": "9489d29a",
   "metadata": {},
   "outputs": [
    {
     "name": "stdout",
     "output_type": "stream",
     "text": [
      "c1 == c2 True\n",
      "c1 != c2 False\n",
      "c3 > c1 True\n",
      "c3 < c2 False\n",
      "c3 > c2 True\n",
      "C1 values: x=0, y=0, radius=1\n",
      "x=0, y=0, radius=1\n",
      "True\n"
     ]
    }
   ],
   "source": [
    "# True\n",
    "print(\"c1 == c2\", c1 == c2)\n",
    "\n",
    "# False\n",
    "print(\"c1 != c2\", c1 != c2)\n",
    "\n",
    "# True\n",
    "print(\"c3 > c1\", c3 > c1)\n",
    "\n",
    "# False\n",
    "print(\"c3 < c2\", c3 < c2)\n",
    "\n",
    "# True\n",
    "print(\"c3 > c2\", c3 > c2)\n",
    "\n",
    "# True\n",
    "print(f\"C1 values: x={c1.x}, y={c1.y}, radius={c1.radius}\")  \n",
    "print(c1.is_unit_circle())\n",
    "\n"
   ]
  },
  {
   "cell_type": "markdown",
   "id": "ddabab96",
   "metadata": {},
   "source": [
    "## More tests"
   ]
  },
  {
   "cell_type": "code",
   "execution_count": null,
   "id": "78836f9f",
   "metadata": {},
   "outputs": [
    {
     "name": "stdout",
     "output_type": "stream",
     "text": [
      "True\n",
      "Circle4 values: x=0, y=0, radius=1\n",
      "x=0, y=0, radius=1\n",
      "True\n",
      "Circle6 values: x=0, y=0, radius=3\n",
      "x=0, y=0, radius=3\n",
      "False\n"
     ]
    }
   ],
   "source": [
    "\n",
    "circle4 = Circle(x = 0, y = 0, radius = 1)\n",
    "circle5 = Circle(x = 1, y = 1, radius = 1)\n",
    "circle6 = Circle(x = 2, y = 2, radius = 2)\n",
    "\n",
    "# True\n",
    "print(circle4 == circle5)   \n",
    "\n",
    "# a circle with center 0,0 with radius 3 \n",
    "circle6 = Circle(radius=3) \n",
    "\n",
    "# True \n",
    "circle6 >= circle4 \n",
    "\n",
    "\n",
    "# should be True\n",
    "print(f\"Circle4 values: x={circle4.x}, y={circle4.y}, radius={circle4.radius}\")  \n",
    "print(circle4.is_unit_circle())\n",
    "\n",
    "# should be False\n",
    "print(f\"Circle6 values: x={circle6.x}, y={circle6.y}, radius={circle6.radius}\")  \n",
    "print(circle6.is_unit_circle())\n",
    "\n"
   ]
  },
  {
   "cell_type": "markdown",
   "id": "c52814f8",
   "metadata": {},
   "source": [
    "## Error Handling"
   ]
  },
  {
   "cell_type": "code",
   "execution_count": 15,
   "id": "c8750ffb",
   "metadata": {},
   "outputs": [
    {
     "ename": "TypeError",
     "evalue": "x_translate and y_translate must BOTH be a number, NO STRINGS ALLOWED",
     "output_type": "error",
     "traceback": [
      "\u001b[31m---------------------------------------------------------------------------\u001b[39m",
      "\u001b[31mTypeError\u001b[39m                                 Traceback (most recent call last)",
      "\u001b[36mCell\u001b[39m\u001b[36m \u001b[39m\u001b[32mIn[15]\u001b[39m\u001b[32m, line 2\u001b[39m\n\u001b[32m      1\u001b[39m \u001b[38;5;66;03m# should raise TypeError with an appropriate message\u001b[39;00m\n\u001b[32m----> \u001b[39m\u001b[32m2\u001b[39m \u001b[43mc1\u001b[49m\u001b[43m.\u001b[49m\u001b[43mtranslate\u001b[49m\u001b[43m(\u001b[49m\u001b[33;43m\"\u001b[39;49m\u001b[33;43mTHREE\u001b[39;49m\u001b[33;43m\"\u001b[39;49m\u001b[43m,\u001b[49m\u001b[43m \u001b[49m\u001b[32;43m5\u001b[39;49m\u001b[43m)\u001b[49m  \n",
      "\u001b[36mFile \u001b[39m\u001b[32mc:\\Users\\adelo\\de25\\aira_franco_lab3\\geometry.py:81\u001b[39m, in \u001b[36mGeometry.translate\u001b[39m\u001b[34m(self, x_translate, y_translate)\u001b[39m\n\u001b[32m     73\u001b[39m \u001b[38;5;250m\u001b[39m\u001b[33;03m\"\"\"\u001b[39;00m\n\u001b[32m     74\u001b[39m \u001b[33;03mmethod to move x and y coordinates\u001b[39;00m\n\u001b[32m     75\u001b[39m \u001b[33;03mdepending on the value,\u001b[39;00m\n\u001b[32m   (...)\u001b[39m\u001b[32m     78\u001b[39m \u001b[33;03mbut not overwrties property _x and _y\u001b[39;00m\n\u001b[32m     79\u001b[39m \u001b[33;03m\"\"\"\u001b[39;00m\n\u001b[32m     80\u001b[39m \u001b[38;5;28;01mif\u001b[39;00m \u001b[38;5;129;01mnot\u001b[39;00m \u001b[38;5;28mall\u001b[39m (\u001b[38;5;28misinstance\u001b[39m(value, Number) \u001b[38;5;28;01mfor\u001b[39;00m value \u001b[38;5;129;01min\u001b[39;00m (x_translate, y_translate)):\n\u001b[32m---> \u001b[39m\u001b[32m81\u001b[39m     \u001b[38;5;28;01mraise\u001b[39;00m \u001b[38;5;167;01mTypeError\u001b[39;00m(\u001b[33m\"\u001b[39m\u001b[33mx_translate and y_translate must BOTH be a number, NO STRINGS ALLOWED\u001b[39m\u001b[33m\"\u001b[39m)\n\u001b[32m     82\u001b[39m \u001b[38;5;28mself\u001b[39m._x += x_translate\n\u001b[32m     83\u001b[39m \u001b[38;5;28mself\u001b[39m._y += y_translate\n",
      "\u001b[31mTypeError\u001b[39m: x_translate and y_translate must BOTH be a number, NO STRINGS ALLOWED"
     ]
    }
   ],
   "source": [
    "# should raise TypeError with an appropriate message\n",
    "c1.translate(\"THREE\", 5)  "
   ]
  },
  {
   "cell_type": "code",
   "execution_count": null,
   "id": "9b048c1e",
   "metadata": {},
   "outputs": [
    {
     "name": "stdout",
     "output_type": "stream",
     "text": [
      "ERROR: Radius must be a number, not a <class 'str'>.\n"
     ]
    }
   ],
   "source": [
    "try:\n",
    "    Circle(x=0, y=0, radius=\"large\")\n",
    "except TypeError as e:\n",
    "    print(\"ERROR:\", e)\n"
   ]
  },
  {
   "cell_type": "markdown",
   "id": "b6f5f2e4",
   "metadata": {},
   "source": [
    "## translate() test"
   ]
  },
  {
   "cell_type": "code",
   "execution_count": 18,
   "id": "108a7c23",
   "metadata": {},
   "outputs": [
    {
     "name": "stdout",
     "output_type": "stream",
     "text": [
      "Before translate():\n",
      " Hi! I am a circle with a radius of 1\n",
      "and my coordinates are (0, 0)\n"
     ]
    }
   ],
   "source": [
    "c1 = Circle(x = 0, y = 0, radius = 1)\n",
    "print(\"Before translate():\\n\", c1)"
   ]
  },
  {
   "cell_type": "code",
   "execution_count": 19,
   "id": "49651e08",
   "metadata": {},
   "outputs": [
    {
     "name": "stdout",
     "output_type": "stream",
     "text": [
      "Using translate():\n",
      " Hi! I am a circle with a radius of 1\n",
      "and my coordinates are (5, 3)\n"
     ]
    }
   ],
   "source": [
    "c1.translate(5, 3)\n",
    "print(\"Using translate():\\n\", c1)"
   ]
  },
  {
   "cell_type": "code",
   "execution_count": 20,
   "id": "6b598074",
   "metadata": {},
   "outputs": [
    {
     "name": "stdout",
     "output_type": "stream",
     "text": [
      "Before translate():\n",
      " Hi! I am a circle with a radius of 1\n",
      "and my coordinates are (1, 1)\n"
     ]
    }
   ],
   "source": [
    "circle5 = Circle(x = 1, y = 1, radius = 1)\n",
    "print(\"Before translate():\\n\", circle5)"
   ]
  },
  {
   "cell_type": "code",
   "execution_count": 23,
   "id": "2a7b2fbe",
   "metadata": {},
   "outputs": [
    {
     "name": "stdout",
     "output_type": "stream",
     "text": [
      "Using translate():\n",
      " Hi! I am a circle with a radius of 1\n",
      "and my coordinates are (22, 22)\n"
     ]
    }
   ],
   "source": [
    "circle5.translate(11, 11)\n",
    "print(\"Using translate():\\n\", circle5)"
   ]
  }
 ],
 "metadata": {
  "kernelspec": {
   "display_name": "Python 3",
   "language": "python",
   "name": "python3"
  },
  "language_info": {
   "codemirror_mode": {
    "name": "ipython",
    "version": 3
   },
   "file_extension": ".py",
   "mimetype": "text/x-python",
   "name": "python",
   "nbconvert_exporter": "python",
   "pygments_lexer": "ipython3",
   "version": "3.12.10"
  }
 },
 "nbformat": 4,
 "nbformat_minor": 5
}
