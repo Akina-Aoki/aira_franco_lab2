{
 "cells": [
  {
   "cell_type": "markdown",
   "id": "4c73e625",
   "metadata": {},
   "source": [
    "# Notebook to test circle class"
   ]
  },
  {
   "cell_type": "markdown",
   "id": "be7baf9f",
   "metadata": {},
   "source": [
    "## is_unit_circle() tests\n",
    "Unit Circle is mathematically set to be x = 0, y = 0 and radius = 1\n",
    "\n",
    "| Attribute | Allowed values            | Validator used                                             | Meaning                          | Invalid examples                     |\n",
    "| --------- | ------------------------- | ---------------------------------------------------------- | -------------------------------- | ------------------------------------ |\n",
    "| `x`, `y`  | Any number (int or float) | `Geometry` base class (checks `isinstance(value, Number)`) | Center position of the circle    | `'a'`, `'3'`, `None`, `[1, 2]`       |\n",
    "| `radius`  | Positive number (> 0)     | `validate_positive` (from `util.py`)                       | Radius length (must be positive) | `0`, `-5`, `'radius'`, `None`, `[3]` |\n"
   ]
  },
  {
   "cell_type": "code",
   "execution_count": 1,
   "id": "6c24de77",
   "metadata": {},
   "outputs": [
    {
     "name": "stdout",
     "output_type": "stream",
     "text": [
      "x=1, y=1, radius=1\n",
      "x=1, y=1, radius=1\n",
      "C2 is unit circle? False\n"
     ]
    }
   ],
   "source": [
    "from circle import Circle\n",
    "\n",
    "# Test: C2 not a unit circle\n",
    "\n",
    "c2 = Circle(x=1, y=1, radius=1)\n",
    "\n",
    "# Should print: x=1, y=1, radius=1\n",
    "print(f\"x={c2.x}, y={c2.y}, radius={c2.radius}\")  \n",
    "\n",
    "# Should print: False\n",
    "print(\"C2 is unit circle?\", c2.is_unit_circle())     \n"
   ]
  },
  {
   "cell_type": "code",
   "execution_count": 2,
   "id": "20b13dca",
   "metadata": {},
   "outputs": [
    {
     "name": "stdout",
     "output_type": "stream",
     "text": [
      "x=0, y=0, radius=1\n",
      "x=0, y=0, radius=1\n",
      "C1 is unit circle? True\n"
     ]
    }
   ],
   "source": [
    "# Test: C1 A unit circle\n",
    "c1 = Circle(x = 0, y = 0, radius = 1)\n",
    "\n",
    "# Should print: x = 0, y = 0, radius = 1\n",
    "print(f\"x={c1.x}, y={c1.y}, radius={c1.radius}\")  \n",
    "\n",
    "# Should print: True\n",
    "print(\"C1 is unit circle?\", c1.is_unit_circle())  "
   ]
  },
  {
   "cell_type": "code",
   "execution_count": 3,
   "id": "6baa06ea",
   "metadata": {},
   "outputs": [
    {
     "name": "stdout",
     "output_type": "stream",
     "text": [
      "C2 values: x=1, y=1, radius=1\n",
      "x=1, y=1, radius=1\n",
      "False\n"
     ]
    }
   ],
   "source": [
    "# False\n",
    "print(f\"C2 values: x={c2.x}, y={c2.y}, radius={c2.radius}\")  \n",
    "print(c2.is_unit_circle())"
   ]
  },
  {
   "cell_type": "code",
   "execution_count": 4,
   "id": "9489d29a",
   "metadata": {},
   "outputs": [
    {
     "name": "stdout",
     "output_type": "stream",
     "text": [
      "C1 values: x=0, y=0, radius=1\n",
      "x=0, y=0, radius=1\n",
      "True\n"
     ]
    }
   ],
   "source": [
    "# True\n",
    "print(f\"C1 values: x={c1.x}, y={c1.y}, radius={c1.radius}\")  \n",
    "print(c1.is_unit_circle())\n"
   ]
  },
  {
   "cell_type": "markdown",
   "id": "b896395f",
   "metadata": {},
   "source": [
    "## override of __str__ and __repr__ "
   ]
  },
  {
   "cell_type": "code",
   "execution_count": 5,
   "id": "55c9bcf9",
   "metadata": {},
   "outputs": [
    {
     "name": "stdout",
     "output_type": "stream",
     "text": [
      "Testing __str__():\n",
      "Hi! I am a circle class with a radius of 1\n",
      "and my coordinates are (0, 0\n",
      "My area is 3.141592653589793 and my perimeter is 6.283185307179586)\n",
      "\n",
      "Testing __repr__():\n",
      "Circle\n",
      "radius = 1, x=0, y=0\n",
      "area = 3.141592653589793\n",
      "perimeter = 6.283185307179586)\n"
     ]
    }
   ],
   "source": [
    "#call __str__()\n",
    "print(\"Testing __str__():\")\n",
    "print(c1)  \n",
    "\n",
    "#call __repr__()\n",
    "print(\"\\nTesting __repr__():\")\n",
    "print(repr(c1))  \n",
    "    "
   ]
  },
  {
   "cell_type": "code",
   "execution_count": 6,
   "id": "35987050",
   "metadata": {},
   "outputs": [
    {
     "name": "stdout",
     "output_type": "stream",
     "text": [
      "Testing __str__():\n",
      "Hi! I am a circle class with a radius of 3\n",
      "and my coordinates are (0, 0\n",
      "My area is 28.274333882308138 and my perimeter is 18.84955592153876)\n",
      "\n",
      "Testing __repr__():\n",
      "Circle\n",
      "radius = 3, x=0, y=0\n",
      "area = 28.274333882308138\n",
      "perimeter = 18.84955592153876)\n"
     ]
    }
   ],
   "source": [
    "c3 = Circle( radius = 3)\n",
    "\n",
    "#call __str__()\n",
    "print(\"Testing __str__():\")\n",
    "print(c3)  \n",
    "\n",
    "#call __repr__()\n",
    "print(\"\\nTesting __repr__():\")\n",
    "print(repr(c3))  \n",
    "    "
   ]
  },
  {
   "cell_type": "markdown",
   "id": "bcdc2ca9",
   "metadata": {},
   "source": [
    "## Comparison Operators / Operator Overloading tests"
   ]
  },
  {
   "cell_type": "code",
   "execution_count": 7,
   "id": "e734b94a",
   "metadata": {},
   "outputs": [
    {
     "name": "stdout",
     "output_type": "stream",
     "text": [
      "c1 area = 3.141592653589793, c1 perimeter = 6.283185307179586)\n",
      "c2 area = 3.141592653589793, c2 perimeter = 6.283185307179586)\n",
      "c1 == c2 True\n"
     ]
    }
   ],
   "source": [
    "\"\"\"\n",
    "Display the area and perimeter for and use that for the comparsion\n",
    "\"\"\"\n",
    "print(f\"c1 area = {c1.area}, c1 perimeter = {c1.perimeter})\")\n",
    "print(f\"c2 area = {c2.area}, c2 perimeter = {c2.perimeter})\")\n",
    "# True\n",
    "print(\"c1 == c2\", c1 == c2)"
   ]
  },
  {
   "cell_type": "code",
   "execution_count": 8,
   "id": "8c6680f5",
   "metadata": {},
   "outputs": [
    {
     "name": "stdout",
     "output_type": "stream",
     "text": [
      "c2 area = 3.141592653589793, c2 perimeter = 6.283185307179586)\n",
      "c3 area = 28.274333882308138, c3 perimeter = 18.84955592153876)\n",
      "c2 == c3 False\n"
     ]
    }
   ],
   "source": [
    "print(f\"c2 area = {c2.area}, c2 perimeter = {c2.perimeter})\")\n",
    "print(f\"c3 area = {c3.area}, c3 perimeter = {c3.perimeter})\")\n",
    "# False\n",
    "print(\"c2 == c3\", c2 == c3)"
   ]
  },
  {
   "cell_type": "code",
   "execution_count": 9,
   "id": "107e292c",
   "metadata": {},
   "outputs": [
    {
     "name": "stdout",
     "output_type": "stream",
     "text": [
      "c1 area = 3.141592653589793, c1 perimeter = 6.283185307179586)\n",
      "c3 area = 28.274333882308138, c3 perimeter = 18.84955592153876)\n",
      "c1 == c3 False\n"
     ]
    }
   ],
   "source": [
    "print(f\"c1 area = {c1.area}, c1 perimeter = {c1.perimeter})\")\n",
    "print(f\"c3 area = {c3.area}, c3 perimeter = {c3.perimeter})\")\n",
    "\n",
    "# False\n",
    "print(\"c1 == c3\", c1 == c3)"
   ]
  },
  {
   "cell_type": "code",
   "execution_count": 10,
   "id": "94117666",
   "metadata": {},
   "outputs": [
    {
     "name": "stdout",
     "output_type": "stream",
     "text": [
      "c3 area = 28.274333882308138, c3 perimeter = 18.84955592153876)\n",
      "c1 area = 3.141592653589793, c1 perimeter = 6.283185307179586)\n",
      "c3 > c1 True\n"
     ]
    }
   ],
   "source": [
    "print(f\"c3 area = {c3.area}, c3 perimeter = {c3.perimeter})\")\n",
    "print(f\"c1 area = {c1.area}, c1 perimeter = {c1.perimeter})\")\n",
    "\n",
    "# True\n",
    "print(\"c3 > c1\", c3 > c1)"
   ]
  },
  {
   "cell_type": "code",
   "execution_count": 11,
   "id": "7a4575e3",
   "metadata": {},
   "outputs": [
    {
     "name": "stdout",
     "output_type": "stream",
     "text": [
      "c3 area = 28.274333882308138, c3 perimeter = 18.84955592153876)\n",
      "c2 area = 3.141592653589793, c1 perimeter = 6.283185307179586)\n",
      "c3 < c2 False\n"
     ]
    }
   ],
   "source": [
    "print(f\"c3 area = {c3.area}, c3 perimeter = {c3.perimeter})\")\n",
    "print(f\"c2 area = {c2.area}, c1 perimeter = {c2.perimeter})\")\n",
    "\n",
    "# False\n",
    "print(\"c3 < c2\", c3 < c2)"
   ]
  },
  {
   "cell_type": "code",
   "execution_count": 12,
   "id": "b3f7d102",
   "metadata": {},
   "outputs": [
    {
     "name": "stdout",
     "output_type": "stream",
     "text": [
      "c3 area = 28.274333882308138, c3 perimeter = 18.84955592153876)\n",
      "c1 area = 3.141592653589793, c1 perimeter = 6.283185307179586)\n",
      "c3 > c1 True\n"
     ]
    }
   ],
   "source": [
    "print(f\"c3 area = {c3.area}, c3 perimeter = {c3.perimeter})\")\n",
    "print(f\"c1 area = {c1.area}, c1 perimeter = {c1.perimeter})\")\n",
    "\n",
    "\n",
    "print(\"c3 > c1\", c3 > c1)"
   ]
  },
  {
   "cell_type": "markdown",
   "id": "ddabab96",
   "metadata": {},
   "source": [
    "## More tests"
   ]
  },
  {
   "cell_type": "code",
   "execution_count": 13,
   "id": "78836f9f",
   "metadata": {},
   "outputs": [
    {
     "name": "stdout",
     "output_type": "stream",
     "text": [
      "Circle4 values: x=0, y=0, radius=1\n",
      "x=0, y=0, radius=1\n",
      "True\n",
      "Circle6 values: x=2, y=2, radius=3\n",
      "x=2, y=2, radius=3\n",
      "False\n"
     ]
    }
   ],
   "source": [
    "c4 = Circle(x = 0, y = 0, radius = 1)\n",
    "c5 = Circle(x = 1, y = 1, radius = 1)\n",
    "c6 = Circle(x = 2, y = 2, radius = 3)\n",
    "\n",
    "\n",
    "# should be True\n",
    "print(f\"Circle4 values: x={c4.x}, y={c4.y}, radius={c4.radius}\")  \n",
    "print(c4.is_unit_circle())\n",
    "\n",
    "# should be False\n",
    "print(f\"Circle6 values: x={c6.x}, y={c6.y}, radius={c6.radius}\")  \n",
    "print(c6.is_unit_circle())\n",
    "\n"
   ]
  },
  {
   "cell_type": "code",
   "execution_count": 14,
   "id": "e0d9fa20",
   "metadata": {},
   "outputs": [
    {
     "name": "stdout",
     "output_type": "stream",
     "text": [
      "c4 area = 3.141592653589793, c4 perimeter = 6.283185307179586)\n",
      "c5 area = 3.141592653589793, c1 perimeter = 6.283185307179586)\n",
      "True\n"
     ]
    }
   ],
   "source": [
    "print(f\"c4 area = {c4.area}, c4 perimeter = {c4.perimeter})\")\n",
    "print(f\"c5 area = {c1.area}, c1 perimeter = {c1.perimeter})\")\n",
    "\n",
    "# True\n",
    "print(c4 == c5)  "
   ]
  },
  {
   "cell_type": "code",
   "execution_count": 15,
   "id": "c7d44a25",
   "metadata": {},
   "outputs": [
    {
     "name": "stdout",
     "output_type": "stream",
     "text": [
      "c4 area = 3.141592653589793, c4 perimeter = 6.283185307179586)\n",
      "c6 area = 28.274333882308138, c6 perimeter = 18.84955592153876)\n",
      "True\n"
     ]
    }
   ],
   "source": [
    "print(f\"c4 area = {c4.area}, c4 perimeter = {c4.perimeter})\")\n",
    "print(f\"c6 area = {c6.area}, c6 perimeter = {c6.perimeter})\")\n",
    "\n",
    "# True\n",
    "print(c6 >= c4 )"
   ]
  },
  {
   "cell_type": "markdown",
   "id": "c52814f8",
   "metadata": {},
   "source": [
    "## Error Handling"
   ]
  },
  {
   "cell_type": "code",
   "execution_count": 16,
   "id": "93c73e61",
   "metadata": {},
   "outputs": [
    {
     "ename": "TypeError",
     "evalue": "x and y must be a number",
     "output_type": "error",
     "traceback": [
      "\u001b[31m---------------------------------------------------------------------------\u001b[39m",
      "\u001b[31mTypeError\u001b[39m                                 Traceback (most recent call last)",
      "\u001b[36mCell\u001b[39m\u001b[36m \u001b[39m\u001b[32mIn[16]\u001b[39m\u001b[32m, line 2\u001b[39m\n\u001b[32m      1\u001b[39m \u001b[38;5;66;03m# Must give a TypeError\u001b[39;00m\n\u001b[32m----> \u001b[39m\u001b[32m2\u001b[39m invalid_circle1 = \u001b[43mCircle\u001b[49m\u001b[43m(\u001b[49m\u001b[43mx\u001b[49m\u001b[43m \u001b[49m\u001b[43m=\u001b[49m\u001b[43m \u001b[49m\u001b[43m[\u001b[49m\u001b[32;43m0\u001b[39;49m\u001b[43m]\u001b[49m\u001b[43m,\u001b[49m\u001b[43m \u001b[49m\u001b[43my\u001b[49m\u001b[43m \u001b[49m\u001b[43m=\u001b[49m\u001b[43m \u001b[49m\u001b[32;43m1\u001b[39;49m\u001b[43m,\u001b[49m\u001b[43m \u001b[49m\u001b[43mradius\u001b[49m\u001b[43m \u001b[49m\u001b[43m=\u001b[49m\u001b[43m \u001b[49m\u001b[32;43m1\u001b[39;49m\u001b[43m)\u001b[49m\n",
      "\u001b[36mFile \u001b[39m\u001b[32mc:\\Users\\adelo\\de25\\aira_franco_lab3\\circle.py:44\u001b[39m, in \u001b[36mCircle.__init__\u001b[39m\u001b[34m(self, x, y, radius)\u001b[39m\n\u001b[32m     32\u001b[39m \u001b[38;5;28;01mdef\u001b[39;00m\u001b[38;5;250m \u001b[39m\u001b[34m__init__\u001b[39m(\u001b[38;5;28mself\u001b[39m, x = \u001b[32m0\u001b[39m, y = \u001b[32m0\u001b[39m, radius:\u001b[38;5;28mfloat\u001b[39m = \u001b[32m1\u001b[39m):\n\u001b[32m     33\u001b[39m \u001b[38;5;250m    \u001b[39m\u001b[33;03m\"\"\"\u001b[39;00m\n\u001b[32m     34\u001b[39m \u001b[33;03m    - Validates that radius is a number imported from (validate_positive_number from util.py).\u001b[39;00m\n\u001b[32m     35\u001b[39m \u001b[33;03m    - Inherit with super().__init__() to reuse code from Geometry.\u001b[39;00m\n\u001b[32m   (...)\u001b[39m\u001b[32m     42\u001b[39m \u001b[33;03m    - no circle that radius = 0 exists or below, ValueError\u001b[39;00m\n\u001b[32m     43\u001b[39m \u001b[33;03m    \"\"\"\u001b[39;00m\n\u001b[32m---> \u001b[39m\u001b[32m44\u001b[39m     \u001b[38;5;28;43msuper\u001b[39;49m\u001b[43m(\u001b[49m\u001b[43m)\u001b[49m\u001b[43m.\u001b[49m\u001b[34;43m__init__\u001b[39;49m\u001b[43m(\u001b[49m\u001b[43mx\u001b[49m\u001b[43m,\u001b[49m\u001b[43my\u001b[49m\u001b[43m)\u001b[49m\n\u001b[32m     45\u001b[39m     validate_positive_number(radius)\n\u001b[32m     46\u001b[39m     \u001b[38;5;66;03m# assign attributes\u001b[39;00m\n",
      "\u001b[36mFile \u001b[39m\u001b[32mc:\\Users\\adelo\\de25\\aira_franco_lab3\\geometry.py:31\u001b[39m, in \u001b[36mGeometry.__init__\u001b[39m\u001b[34m(self, x, y)\u001b[39m\n\u001b[32m     26\u001b[39m \u001b[38;5;250m\u001b[39m\u001b[33;03m\"\"\"\u001b[39;00m\n\u001b[32m     27\u001b[39m \u001b[33;03mCreate Geometry objects with x and y attributeas\u001b[39;00m\n\u001b[32m     28\u001b[39m \u001b[33;03mValidate that value is a number using is instance and one line for loop\u001b[39;00m\n\u001b[32m     29\u001b[39m \u001b[33;03m\"\"\"\u001b[39;00m\n\u001b[32m     30\u001b[39m \u001b[38;5;28;01mif\u001b[39;00m \u001b[38;5;129;01mnot\u001b[39;00m \u001b[38;5;28mall\u001b[39m (\u001b[38;5;28misinstance\u001b[39m(value, Number) \u001b[38;5;28;01mfor\u001b[39;00m value \u001b[38;5;129;01min\u001b[39;00m (x,y)):\n\u001b[32m---> \u001b[39m\u001b[32m31\u001b[39m     \u001b[38;5;28;01mraise\u001b[39;00m \u001b[38;5;167;01mTypeError\u001b[39;00m(\u001b[33m\"\u001b[39m\u001b[33mx and y must be a number\u001b[39m\u001b[33m\"\u001b[39m)\n\u001b[32m     32\u001b[39m \u001b[38;5;28mself\u001b[39m._x = x\n\u001b[32m     33\u001b[39m \u001b[38;5;28mself\u001b[39m._y = y\n",
      "\u001b[31mTypeError\u001b[39m: x and y must be a number"
     ]
    }
   ],
   "source": [
    "# Must give a TypeError\n",
    "invalid_circle1 = Circle(x = [0], y = 1, radius = 1)"
   ]
  },
  {
   "cell_type": "code",
   "execution_count": null,
   "id": "69005b1e",
   "metadata": {},
   "outputs": [
    {
     "ename": "ValueError",
     "evalue": "value cannor be 0 or negative",
     "output_type": "error",
     "traceback": [
      "\u001b[31m---------------------------------------------------------------------------\u001b[39m",
      "\u001b[31mValueError\u001b[39m                                Traceback (most recent call last)",
      "\u001b[36mCell\u001b[39m\u001b[36m \u001b[39m\u001b[32mIn[7]\u001b[39m\u001b[32m, line 2\u001b[39m\n\u001b[32m      1\u001b[39m \u001b[38;5;66;03m# Should give ValueError\u001b[39;00m\n\u001b[32m----> \u001b[39m\u001b[32m2\u001b[39m negative_circle = \u001b[43mCircle\u001b[49m\u001b[43m(\u001b[49m\u001b[43mx\u001b[49m\u001b[43m \u001b[49m\u001b[43m=\u001b[49m\u001b[43m \u001b[49m\u001b[32;43m4\u001b[39;49m\u001b[43m,\u001b[49m\u001b[43m \u001b[49m\u001b[43my\u001b[49m\u001b[43m \u001b[49m\u001b[43m=\u001b[49m\u001b[43m \u001b[49m\u001b[32;43m4\u001b[39;49m\u001b[43m,\u001b[49m\u001b[43m \u001b[49m\u001b[43mradius\u001b[49m\u001b[43m \u001b[49m\u001b[43m=\u001b[49m\u001b[43m \u001b[49m\u001b[43m-\u001b[49m\u001b[32;43m1\u001b[39;49m\u001b[43m)\u001b[49m\n\u001b[32m      3\u001b[39m \u001b[38;5;28mprint\u001b[39m(negative_circle.is_unit_circle())\n",
      "\u001b[36mFile \u001b[39m\u001b[32mc:\\Users\\adelo\\de25\\aira_franco_lab3\\circle.py:30\u001b[39m, in \u001b[36mCircle.__init__\u001b[39m\u001b[34m(self, x, y, radius)\u001b[39m\n\u001b[32m     18\u001b[39m \u001b[38;5;250m\u001b[39m\u001b[33;03m\"\"\"\u001b[39;00m\n\u001b[32m     19\u001b[39m \u001b[33;03m- Validates that radius is a number imported from (validate_number from util.py).\u001b[39;00m\n\u001b[32m     20\u001b[39m \u001b[33;03m- Inherit with super().__init__() to reuse code from Geometry.\u001b[39;00m\n\u001b[32m   (...)\u001b[39m\u001b[32m     27\u001b[39m \u001b[33;03m- no circle that radius = 0 exists or below, ValueError\u001b[39;00m\n\u001b[32m     28\u001b[39m \u001b[33;03m\"\"\"\u001b[39;00m\n\u001b[32m     29\u001b[39m \u001b[38;5;28msuper\u001b[39m().\u001b[34m__init__\u001b[39m(x,y)\n\u001b[32m---> \u001b[39m\u001b[32m30\u001b[39m \u001b[43mvalidate_positive_number\u001b[49m\u001b[43m(\u001b[49m\u001b[43mradius\u001b[49m\u001b[43m)\u001b[49m\n\u001b[32m     31\u001b[39m \u001b[38;5;66;03m# uses validation from util.py\u001b[39;00m\n\u001b[32m     32\u001b[39m \u001b[38;5;66;03m# assign attributes\u001b[39;00m\n\u001b[32m     33\u001b[39m \u001b[38;5;28mself\u001b[39m._radius = radius\n",
      "\u001b[36mFile \u001b[39m\u001b[32mc:\\Users\\adelo\\de25\\aira_franco_lab3\\util.py:25\u001b[39m, in \u001b[36mvalidate_positive_number\u001b[39m\u001b[34m(value)\u001b[39m\n\u001b[32m     23\u001b[39m     \u001b[38;5;66;03m# checks if the value is 0 or negative\u001b[39;00m\n\u001b[32m     24\u001b[39m \u001b[38;5;28;01mif\u001b[39;00m value <= \u001b[32m0\u001b[39m: \n\u001b[32m---> \u001b[39m\u001b[32m25\u001b[39m     \u001b[38;5;28;01mraise\u001b[39;00m \u001b[38;5;167;01mValueError\u001b[39;00m(\u001b[33mf\u001b[39m\u001b[33m\"\u001b[39m\u001b[33mvalue cannor be 0 or negative\u001b[39m\u001b[33m\"\u001b[39m)\n",
      "\u001b[31mValueError\u001b[39m: value cannor be 0 or negative"
     ]
    }
   ],
   "source": [
    "# Should give ValueError. Radius negative does not exist\n",
    "negative_circle = Circle(x = 4, y = 4, radius = -1)\n",
    "print(negative_circle.is_unit_circle())"
   ]
  },
  {
   "cell_type": "code",
   "execution_count": null,
   "id": "c8750ffb",
   "metadata": {},
   "outputs": [
    {
     "ename": "TypeError",
     "evalue": "x_translate and y_translate must BOTH be a number, NO STRINGS ALLOWED",
     "output_type": "error",
     "traceback": [
      "\u001b[31m---------------------------------------------------------------------------\u001b[39m",
      "\u001b[31mTypeError\u001b[39m                                 Traceback (most recent call last)",
      "\u001b[36mCell\u001b[39m\u001b[36m \u001b[39m\u001b[32mIn[42]\u001b[39m\u001b[32m, line 2\u001b[39m\n\u001b[32m      1\u001b[39m \u001b[38;5;66;03m# should raise TypeError because it's a str\u001b[39;00m\n\u001b[32m----> \u001b[39m\u001b[32m2\u001b[39m \u001b[43mc1\u001b[49m\u001b[43m.\u001b[49m\u001b[43mtranslate\u001b[49m\u001b[43m(\u001b[49m\u001b[33;43m\"\u001b[39;49m\u001b[33;43mTHREE\u001b[39;49m\u001b[33;43m\"\u001b[39;49m\u001b[43m,\u001b[49m\u001b[43m \u001b[49m\u001b[32;43m5\u001b[39;49m\u001b[43m)\u001b[49m  \n",
      "\u001b[36mFile \u001b[39m\u001b[32mc:\\Users\\adelo\\de25\\aira_franco_lab3\\geometry.py:64\u001b[39m, in \u001b[36mGeometry.translate\u001b[39m\u001b[34m(self, x_translate, y_translate)\u001b[39m\n\u001b[32m     56\u001b[39m \u001b[38;5;250m\u001b[39m\u001b[33;03m\"\"\"\u001b[39;00m\n\u001b[32m     57\u001b[39m \u001b[33;03m- method to move x and y coordinates\u001b[39;00m\n\u001b[32m     58\u001b[39m \u001b[33;03mdepending on the value, the new values are incremented to x += x_translate and y += y_translate.\u001b[39;00m\n\u001b[32m   (...)\u001b[39m\u001b[32m     61\u001b[39m \u001b[33;03m- translate() method doesn’t “reset” the rectangle’s position, it increments to its current coordinates.\u001b[39;00m\n\u001b[32m     62\u001b[39m \u001b[33;03m\"\"\"\u001b[39;00m\n\u001b[32m     63\u001b[39m \u001b[38;5;28;01mif\u001b[39;00m \u001b[38;5;129;01mnot\u001b[39;00m \u001b[38;5;28mall\u001b[39m (\u001b[38;5;28misinstance\u001b[39m(value, Number) \u001b[38;5;28;01mfor\u001b[39;00m value \u001b[38;5;129;01min\u001b[39;00m (x_translate, y_translate)):\n\u001b[32m---> \u001b[39m\u001b[32m64\u001b[39m     \u001b[38;5;28;01mraise\u001b[39;00m \u001b[38;5;167;01mTypeError\u001b[39;00m(\u001b[33m\"\u001b[39m\u001b[33mx_translate and y_translate must BOTH be a number, NO STRINGS ALLOWED\u001b[39m\u001b[33m\"\u001b[39m)\n\u001b[32m     65\u001b[39m \u001b[38;5;28mself\u001b[39m._x += x_translate\n\u001b[32m     66\u001b[39m \u001b[38;5;28mself\u001b[39m._y += y_translate\n",
      "\u001b[31mTypeError\u001b[39m: x_translate and y_translate must BOTH be a number, NO STRINGS ALLOWED"
     ]
    }
   ],
   "source": [
    "# should raise TypeError because it's a str\n",
    "c1.translate(\"THREE\", 5)  "
   ]
  },
  {
   "cell_type": "code",
   "execution_count": null,
   "id": "07496176",
   "metadata": {},
   "outputs": [
    {
     "ename": "ValueError",
     "evalue": "value cannor be 0 or negative",
     "output_type": "error",
     "traceback": [
      "\u001b[31m---------------------------------------------------------------------------\u001b[39m",
      "\u001b[31mValueError\u001b[39m                                Traceback (most recent call last)",
      "\u001b[36mCell\u001b[39m\u001b[36m \u001b[39m\u001b[32mIn[41]\u001b[39m\u001b[32m, line 2\u001b[39m\n\u001b[32m      1\u001b[39m \u001b[38;5;66;03m# Should give ValueError. Radius of 0 does not exist\u001b[39;00m\n\u001b[32m----> \u001b[39m\u001b[32m2\u001b[39m negative_circle = \u001b[43mCircle\u001b[49m\u001b[43m(\u001b[49m\u001b[43mx\u001b[49m\u001b[43m \u001b[49m\u001b[43m=\u001b[49m\u001b[43m \u001b[49m\u001b[32;43m4\u001b[39;49m\u001b[43m,\u001b[49m\u001b[43m \u001b[49m\u001b[43my\u001b[49m\u001b[43m \u001b[49m\u001b[43m=\u001b[49m\u001b[43m \u001b[49m\u001b[32;43m4\u001b[39;49m\u001b[43m,\u001b[49m\u001b[43m \u001b[49m\u001b[43mradius\u001b[49m\u001b[43m \u001b[49m\u001b[43m=\u001b[49m\u001b[43m \u001b[49m\u001b[32;43m0\u001b[39;49m\u001b[43m)\u001b[49m\n\u001b[32m      3\u001b[39m \u001b[38;5;28mprint\u001b[39m(\u001b[33mf\u001b[39m\u001b[33m\"\u001b[39m\u001b[33mc2 area = \u001b[39m\u001b[38;5;132;01m{\u001b[39;00mnegative_circle.area\u001b[38;5;132;01m}\u001b[39;00m\u001b[33m, c2 perimeter = \u001b[39m\u001b[38;5;132;01m{\u001b[39;00mnegative_circle.perimeter\u001b[38;5;132;01m}\u001b[39;00m\u001b[33m)\u001b[39m\u001b[33m\"\u001b[39m)\n",
      "\u001b[36mFile \u001b[39m\u001b[32mc:\\Users\\adelo\\de25\\aira_franco_lab3\\circle.py:30\u001b[39m, in \u001b[36mCircle.__init__\u001b[39m\u001b[34m(self, x, y, radius)\u001b[39m\n\u001b[32m     18\u001b[39m \u001b[38;5;250m\u001b[39m\u001b[33;03m\"\"\"\u001b[39;00m\n\u001b[32m     19\u001b[39m \u001b[33;03m- Validates that radius is a number imported from (validate_number from util.py).\u001b[39;00m\n\u001b[32m     20\u001b[39m \u001b[33;03m- Inherit with super().__init__() to reuse code from Geometry.\u001b[39;00m\n\u001b[32m   (...)\u001b[39m\u001b[32m     27\u001b[39m \u001b[33;03m- no circle that radius = 0 exists or below, ValueError\u001b[39;00m\n\u001b[32m     28\u001b[39m \u001b[33;03m\"\"\"\u001b[39;00m\n\u001b[32m     29\u001b[39m \u001b[38;5;28msuper\u001b[39m().\u001b[34m__init__\u001b[39m(x,y)\n\u001b[32m---> \u001b[39m\u001b[32m30\u001b[39m \u001b[43mvalidate_positive_number\u001b[49m\u001b[43m(\u001b[49m\u001b[43mradius\u001b[49m\u001b[43m)\u001b[49m\n\u001b[32m     31\u001b[39m \u001b[38;5;66;03m# uses validation from util.py\u001b[39;00m\n\u001b[32m     32\u001b[39m \u001b[38;5;66;03m# assign attributes\u001b[39;00m\n\u001b[32m     33\u001b[39m \u001b[38;5;28mself\u001b[39m._radius = radius\n",
      "\u001b[36mFile \u001b[39m\u001b[32mc:\\Users\\adelo\\de25\\aira_franco_lab3\\util.py:25\u001b[39m, in \u001b[36mvalidate_positive_number\u001b[39m\u001b[34m(value)\u001b[39m\n\u001b[32m     23\u001b[39m     \u001b[38;5;66;03m# checks if the value is 0 or negative\u001b[39;00m\n\u001b[32m     24\u001b[39m \u001b[38;5;28;01mif\u001b[39;00m value <= \u001b[32m0\u001b[39m: \n\u001b[32m---> \u001b[39m\u001b[32m25\u001b[39m     \u001b[38;5;28;01mraise\u001b[39;00m \u001b[38;5;167;01mValueError\u001b[39;00m(\u001b[33mf\u001b[39m\u001b[33m\"\u001b[39m\u001b[33mvalue cannor be 0 or negative\u001b[39m\u001b[33m\"\u001b[39m)\n",
      "\u001b[31mValueError\u001b[39m: value cannor be 0 or negative"
     ]
    }
   ],
   "source": [
    "# Should give ValueError. Radius of 0 does not exist\n",
    "negative_circle = Circle(x = 4, y = 4, radius = 0)\n",
    "print(f\"c2 area = {negative_circle.area}, c2 perimeter = {negative_circle.perimeter})\")"
   ]
  },
  {
   "cell_type": "code",
   "execution_count": null,
   "id": "9b048c1e",
   "metadata": {},
   "outputs": [
    {
     "name": "stdout",
     "output_type": "stream",
     "text": [
      "ERROR: value must be a number, not <class 'str'>\n"
     ]
    }
   ],
   "source": [
    "# use try-except \n",
    "try:\n",
    "    Circle(x=0, y=0, radius=\"large\")\n",
    "except TypeError as e:\n",
    "    print(\"ERROR:\", e)\n"
   ]
  },
  {
   "cell_type": "markdown",
   "id": "b6f5f2e4",
   "metadata": {},
   "source": [
    "## translate() test"
   ]
  },
  {
   "cell_type": "code",
   "execution_count": null,
   "id": "108a7c23",
   "metadata": {},
   "outputs": [
    {
     "name": "stdout",
     "output_type": "stream",
     "text": [
      "Before translate():\n",
      " Hi! I am a circle class with a radius of 1\n",
      "and my coordinates are (0, 0\n",
      "My area is 3.141592653589793 and my perimeter is 6.283185307179586)\n"
     ]
    }
   ],
   "source": [
    "c1 = Circle(x = 0, y = 0, radius = 1)\n",
    "print(\"Before translate():\\n\", c1)"
   ]
  },
  {
   "cell_type": "code",
   "execution_count": null,
   "id": "49651e08",
   "metadata": {},
   "outputs": [
    {
     "name": "stdout",
     "output_type": "stream",
     "text": [
      "Using translate():\n",
      " Hi! I am a circle class with a radius of 1\n",
      "and my coordinates are (5, 3\n",
      "My area is 3.141592653589793 and my perimeter is 6.283185307179586)\n"
     ]
    }
   ],
   "source": [
    "c1.translate(5, 3)\n",
    "print(\"Using translate():\\n\", c1)"
   ]
  },
  {
   "cell_type": "code",
   "execution_count": null,
   "id": "6b598074",
   "metadata": {},
   "outputs": [
    {
     "name": "stdout",
     "output_type": "stream",
     "text": [
      "Before translate():\n",
      " Hi! I am a circle class with a radius of 1\n",
      "and my coordinates are (1, 1\n",
      "My area is 3.141592653589793 and my perimeter is 6.283185307179586)\n"
     ]
    }
   ],
   "source": [
    "circle5 = Circle(x = 1, y = 1, radius = 1)\n",
    "print(\"Before translate():\\n\", circle5)"
   ]
  },
  {
   "cell_type": "code",
   "execution_count": null,
   "id": "2a7b2fbe",
   "metadata": {},
   "outputs": [
    {
     "name": "stdout",
     "output_type": "stream",
     "text": [
      "Using translate():\n",
      " Hi! I am a circle class with a radius of 1\n",
      "and my coordinates are (23, 23\n",
      "My area is 3.141592653589793 and my perimeter is 6.283185307179586)\n"
     ]
    }
   ],
   "source": [
    "circle5.translate(11, 11)\n",
    "print(\"Using translate():\\n\", circle5)"
   ]
  }
 ],
 "metadata": {
  "kernelspec": {
   "display_name": "aira_franco_lab3",
   "language": "python",
   "name": "python3"
  },
  "language_info": {
   "codemirror_mode": {
    "name": "ipython",
    "version": 3
   },
   "file_extension": ".py",
   "mimetype": "text/x-python",
   "name": "python",
   "nbconvert_exporter": "python",
   "pygments_lexer": "ipython3",
   "version": "3.12.10"
  }
 },
 "nbformat": 4,
 "nbformat_minor": 5
}
